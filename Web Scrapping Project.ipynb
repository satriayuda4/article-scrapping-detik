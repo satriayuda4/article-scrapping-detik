{
 "cells": [
  {
   "cell_type": "markdown",
   "id": "6e38a881",
   "metadata": {},
   "source": [
    "# Part 1: Scrap data from detik.com"
   ]
  },
  {
   "cell_type": "code",
   "execution_count": 1,
   "id": "1fb336e4",
   "metadata": {},
   "outputs": [],
   "source": [
    "from selenium import webdriver\n",
    "from selenium.webdriver.chrome.options import Options\n",
    "import pandas as pd"
   ]
  },
  {
   "cell_type": "code",
   "execution_count": 2,
   "id": "d69ba26e",
   "metadata": {},
   "outputs": [],
   "source": [
    "chrome_options = Options()\n",
    "chrome_options.add_argument(\"--headless\")"
   ]
  },
  {
   "cell_type": "code",
   "execution_count": 3,
   "id": "e57fe932",
   "metadata": {},
   "outputs": [],
   "source": [
    "PATH = 'chromedriver.exe'\n",
    "driver = webdriver.Chrome(PATH, options = chrome_options)"
   ]
  },
  {
   "cell_type": "code",
   "execution_count": 4,
   "id": "477802e7",
   "metadata": {},
   "outputs": [],
   "source": [
    "def scrap_link(link):\n",
    "    for i in range(10):\n",
    "        j = i+1\n",
    "        element = driver.find_element_by_xpath('/html/body/div[2]/div/div[1]/div[1]/article[' + str(j) + ']/a')\n",
    "        href = element.get_attribute('href')\n",
    "        link.append(href)"
   ]
  },
  {
   "cell_type": "code",
   "execution_count": 5,
   "id": "7d45087c",
   "metadata": {},
   "outputs": [
    {
     "name": "stdout",
     "output_type": "stream",
     "text": [
      "Input tag: bank-indonesia\n"
     ]
    }
   ],
   "source": [
    "tag = 'bank-indonesia'\n",
    "#tag = input('Input tag: ')"
   ]
  },
  {
   "cell_type": "code",
   "execution_count": 6,
   "id": "d9b92412",
   "metadata": {},
   "outputs": [
    {
     "name": "stdout",
     "output_type": "stream",
     "text": [
      "https://www.detik.com/tag/bank-indonesia/?sortby=time&page=\n"
     ]
    }
   ],
   "source": [
    "link_home = \"https://www.detik.com/tag/\" + tag + \"/?sortby=time&page=\"\n",
    "print(link_home)"
   ]
  },
  {
   "cell_type": "code",
   "execution_count": 7,
   "id": "a55830cf",
   "metadata": {},
   "outputs": [],
   "source": [
    "page = 18\n",
    "#page = input('Input page: ')"
   ]
  },
  {
   "cell_type": "code",
   "execution_count": 8,
   "id": "f95d7039",
   "metadata": {},
   "outputs": [],
   "source": [
    "def scrap_link_page(page):\n",
    "    link_ = []\n",
    "    for n in range(page):\n",
    "        n += 1\n",
    "        print(n,'/',str(page))\n",
    "        link_scrapping = link_home + str(n)\n",
    "        driver.get(link_scrapping)\n",
    "        driver.implicitly_wait(2)\n",
    "        scrap_link(link_)"
   ]
  },
  {
   "cell_type": "code",
   "execution_count": null,
   "id": "6baa0684",
   "metadata": {},
   "outputs": [],
   "source": []
  }
 ],
 "metadata": {
  "kernelspec": {
   "display_name": "Python 3",
   "language": "python",
   "name": "python3"
  },
  "language_info": {
   "codemirror_mode": {
    "name": "ipython",
    "version": 3
   },
   "file_extension": ".py",
   "mimetype": "text/x-python",
   "name": "python",
   "nbconvert_exporter": "python",
   "pygments_lexer": "ipython3",
   "version": "3.8.10"
  }
 },
 "nbformat": 4,
 "nbformat_minor": 5
}
